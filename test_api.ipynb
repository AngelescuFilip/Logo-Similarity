{
 "cells": [
  {
   "cell_type": "code",
   "execution_count": null,
   "metadata": {},
   "outputs": [
    {
     "name": "stdout",
     "output_type": "stream",
     "text": [
      "200\n",
      "Scraping is over!!\n"
     ]
    }
   ],
   "source": [
    "import requests\n",
    "\n",
    "url = \"http://127.0.0.1:8000/run-scraper\"\n",
    "payload = {\n",
    "    \"domains\": [\n",
    "        \"collectui.com\",\n",
    "        \"frontendmentor.io\",\n",
    "        \"codrops.com\",\n",
    "        \"webdesign-inspiration.com\",\n",
    "        \"getwaves.io\",\n",
    "        \"humaaans.com\",\n",
    "        \"undraw.co\",\n",
    "        \"haikei.app\",\n",
    "        \"manypixels.co\",\n",
    "        \"uiverse.io\",\n",
    "        \"readme.so\",\n",
    "        \"haikei.app\",\n",
    "        \"undraw.co\",\n",
    "        \"manypixels.co\",\n",
    "        \"openpeeps.com\",\n",
    "        \"drawkit.io\",\n",
    "        \"absurd.design\",\n",
    "        \"blush.design\",\n",
    "        \"heroicons.com\"\n",
    "    ]\n",
    "}\n",
    "\n",
    "response = requests.post(url, json=payload)\n",
    "print(response.status_code)\n",
    "print(response.json())\n"
   ]
  },
  {
   "cell_type": "code",
   "execution_count": null,
   "metadata": {},
   "outputs": [],
   "source": []
  },
  {
   "cell_type": "code",
   "execution_count": 6,
   "metadata": {},
   "outputs": [
    {
     "name": "stdout",
     "output_type": "stream",
     "text": [
      "200\n",
      "{'0': ['aamco-chesapeakeva.com', 'aamco-omahasouth.com', 'aamcobrookfieldwi.com', 'aamcobloomfield.com', 'aamcoaustin-burnetrd.com'], '1': ['meggle-bakery.com', 'meggle-cheese.com']}\n"
     ]
    }
   ],
   "source": [
    "import requests\n",
    "\n",
    "url = \"http://127.0.0.1:8000/extract-logos\"\n",
    "payload = {\n",
    "    \"domains\": [\n",
    "        \"aamco-chesapeakeva.com\",\n",
    "        \"aamco-omahasouth.com\",\n",
    "        \"aamcoaustin-burnetrd.com\",\n",
    "        \"aamcobrookfieldwi.com\",\n",
    "        \"aamcobloomfield.com\",\n",
    "        \"meggle-bakery.com\",\n",
    "        \"meggle-cheese.com\"\n",
    "    ]\n",
    "}\n",
    "\n",
    "response = requests.post(url, json=payload)\n",
    "print(response.status_code)\n",
    "print(response.json())\n"
   ]
  },
  {
   "cell_type": "code",
   "execution_count": null,
   "metadata": {},
   "outputs": [],
   "source": []
  }
 ],
 "metadata": {
  "kernelspec": {
   "display_name": "logo_venv",
   "language": "python",
   "name": "python3"
  },
  "language_info": {
   "codemirror_mode": {
    "name": "ipython",
    "version": 3
   },
   "file_extension": ".py",
   "mimetype": "text/x-python",
   "name": "python",
   "nbconvert_exporter": "python",
   "pygments_lexer": "ipython3",
   "version": "3.10.11"
  }
 },
 "nbformat": 4,
 "nbformat_minor": 2
}
